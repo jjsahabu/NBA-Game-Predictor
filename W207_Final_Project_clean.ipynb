{
 "cells": [
  {
   "cell_type": "markdown",
   "metadata": {},
   "source": [
    "# Predicting NBA Scores using Machine Learning\n",
    "\n",
    "### George Tao,  Jeremiah Sahabu, Isaac Chau\n",
    "\n",
    "#### Introduction\n",
    "\n",
    "Sports inheritantly has large variability. Thus, we wanted to see if we can predict which team will win through supervised Machine Learning. We decided to use Logistic Regression for our models as we believe it fits the scenario best.\n",
    "\n",
    "#### Dataset:\n",
    "\n",
    "#### Features:\n",
    "\n",
    "We saw a lot of features given ranging from player stats, scores, among others. We used a combination of these features as well as features we created from the dataset above to feed into our model. See list below of features we identified significant\n",
    "\n",
    "- Consecutive Away Games\n",
    "- Wins in the last 10 Games\n",
    "- Officials \n",
    "- Players\n",
    "- Back to Back Games\n",
    "- eFG% (season average)\n",
    "- eFG% allowed (season average)\n",
    "- Team Fouls (season average)\n",
    "- Turnovers \n",
    "- Offensive Rebounds\n",
    "\n"
   ]
  },
  {
   "cell_type": "markdown",
   "metadata": {},
   "source": [
    "### Libraries"
   ]
  },
  {
   "cell_type": "code",
   "execution_count": null,
   "metadata": {},
   "outputs": [],
   "source": [
    "import pandas as pd\n",
    "import statsmodels.api as sm\n",
    "import numpy as np\n",
    "import matplotlib.pyplot as plt\n",
    "from statistics import median\n",
    "\n",
    "# This tells matplotlib not to try opening a new window for each plot.\n",
    "%matplotlib inline\n",
    "\n",
    "# General libraries.\n",
    "import re\n",
    "import numpy as np\n",
    "\n",
    "\n",
    "# SK-learn libraries for learning.\n",
    "from sklearn.pipeline import Pipeline\n",
    "from sklearn.neighbors import KNeighborsClassifier\n",
    "from sklearn.linear_model import LogisticRegression\n",
    "from sklearn.naive_bayes import BernoulliNB\n",
    "from sklearn.naive_bayes import MultinomialNB\n",
    "\n",
    "# SK-learn libraries for evaluation.\n",
    "from sklearn.metrics import confusion_matrix\n",
    "from sklearn import metrics\n",
    "from sklearn.metrics import classification_report\n",
    "import nltk\n",
    "import urllib.request as urllib2 # For python3\n",
    "from sklearn.decomposition import PCA\n",
    "from sklearn.cluster import KMeans\n",
    "from sklearn.mixture import GaussianMixture as GMM\n",
    "from matplotlib.colors import LogNorm"
   ]
  },
  {
   "cell_type": "markdown",
   "metadata": {},
   "source": [
    "### Loading in the Data"
   ]
  },
  {
   "cell_type": "code",
   "execution_count": null,
   "metadata": {},
   "outputs": [],
   "source": []
  },
  {
   "cell_type": "markdown",
   "metadata": {},
   "source": [
    "### Parsing the Data"
   ]
  },
  {
   "cell_type": "code",
   "execution_count": 1,
   "metadata": {},
   "outputs": [
    {
     "ename": "NameError",
     "evalue": "name 'teamBox' is not defined",
     "output_type": "error",
     "traceback": [
      "\u001b[0;31m---------------------------------------------------------------------------\u001b[0m",
      "\u001b[0;31mNameError\u001b[0m                                 Traceback (most recent call last)",
      "\u001b[0;32m<ipython-input-1-ffbb41baf070>\u001b[0m in \u001b[0;36m<module>\u001b[0;34m\u001b[0m\n\u001b[1;32m      1\u001b[0m \u001b[0;31m#Storing DataFrames in Separate Dicts\u001b[0m\u001b[0;34m\u001b[0m\u001b[0;34m\u001b[0m\u001b[0;34m\u001b[0m\u001b[0m\n\u001b[0;32m----> 2\u001b[0;31m \u001b[0mteam_names\u001b[0m \u001b[0;34m=\u001b[0m \u001b[0mlist\u001b[0m\u001b[0;34m(\u001b[0m\u001b[0mteamBox\u001b[0m\u001b[0;34m.\u001b[0m\u001b[0mteamAbbr\u001b[0m\u001b[0;34m.\u001b[0m\u001b[0munique\u001b[0m\u001b[0;34m(\u001b[0m\u001b[0;34m)\u001b[0m\u001b[0;34m)\u001b[0m\u001b[0;34m\u001b[0m\u001b[0;34m\u001b[0m\u001b[0m\n\u001b[0m\u001b[1;32m      3\u001b[0m \u001b[0mteam_dict\u001b[0m \u001b[0;34m=\u001b[0m \u001b[0;34m{\u001b[0m \u001b[0mi\u001b[0m \u001b[0;34m:\u001b[0m \u001b[0;36m0\u001b[0m \u001b[0;32mfor\u001b[0m \u001b[0mi\u001b[0m \u001b[0;32min\u001b[0m \u001b[0mteam_names\u001b[0m \u001b[0;34m}\u001b[0m\u001b[0;34m\u001b[0m\u001b[0;34m\u001b[0m\u001b[0m\n",
      "\u001b[0;31mNameError\u001b[0m: name 'teamBox' is not defined"
     ]
    }
   ],
   "source": [
    "#Storing DataFrames in Separate Dicts\n",
    "team_names = list(teamBox.teamAbbr.unique())\n",
    "team_dict = { i : 0 for i in team_names }"
   ]
  },
  {
   "cell_type": "code",
   "execution_count": null,
   "metadata": {},
   "outputs": [],
   "source": [
    "#Parsing Data and Finding Consequetive Away Games\n",
    "teams = teamBox[[\"teamAbbr\", \"teamAbbr\", \"teamLoc\", \"teamRslt\", \"gmDate\"]]\n",
    "teams.columns = [\"groups\", \"teamAbbr\", \"teamLoc\", \"teamRslt\", \"gmDate\"]\n",
    "\n",
    "#Grouping Data by Team\n",
    "sorted_teams = teams.groupby('groups')\n",
    "sorted_teams.first()\n",
    "\n",
    "#Finding Consequetive Away Games\n",
    "for teams in team_names:\n",
    "    temp = sorted_teams.get_group(teams)\n",
    "    temp = temp.reset_index()\n",
    "    Counter = 0\n",
    "    for ind, row in temp.iterrows():\n",
    "        if row['teamLoc'] == \"Away\":\n",
    "            Counter += 1\n",
    "            temp.loc[ind, \"Consequetive Away Games\"] = Counter\n",
    "        else:\n",
    "            Counter = 0\n",
    "            temp.loc[ind, \"Consequetive Away Games\"] = Counter\n",
    "    team_dict[teams] = temp\n",
    "    \n",
    "#Finding Number of Wins in Past 10 Games\n",
    "\n",
    "    for ind in temp.index:\n",
    "        if ind < 10:\n",
    "            Counter = 0\n",
    "            for x in range(ind):\n",
    "                if temp['teamRslt'][x] == \"Win\":\n",
    "                    Counter += 1\n",
    "            temp.loc[ind, \"Wins in Last 10\"] = Counter\n",
    "        else:\n",
    "            Counter = 0\n",
    "            for x in range(ind-10,ind):\n",
    "                if temp['teamRslt'][x] == \"Win\":\n",
    "                    Counter += 1\n",
    "            temp.loc[ind, \"Wins in Last 10\"] = Counter\n",
    "\n",
    "#Combining the Tables \n",
    "final_1 = pd.concat([team_dict['ATL'], team_dict['BKN'], team_dict['BOS'], team_dict['CHA'], team_dict['CHI'], team_dict['CLE'], team_dict['DAL'], team_dict['DEN'], team_dict['DET'], team_dict['GS']], ignore_index=True)\n",
    "final_2 = pd.concat([team_dict['HOU'], team_dict['IND'], team_dict['LAC'], team_dict['LAL'], team_dict['MEM'], team_dict['MIA'], team_dict['MIL'], team_dict['MIN'], team_dict['NO'], team_dict['NY']], ignore_index=True)\n",
    "final_3 = pd.concat([team_dict['OKC'], team_dict['ORL'], team_dict['PHI'], team_dict['PHO'], team_dict['POR'], team_dict['SA'], team_dict['SAC'], team_dict['TOR'], team_dict['UTA'], team_dict['WAS']], ignore_index=True)\n",
    "\n",
    "final = pd.concat([final_1, final_2, final_3], ignore_index=True)\n",
    "\n",
    "final = final.sort_values('index')\n",
    "final = final.set_index('index')"
   ]
  },
  {
   "cell_type": "code",
   "execution_count": null,
   "metadata": {},
   "outputs": [],
   "source": [
    "#Color Scheme\n",
    "\n",
    "for ind, row in final.iterrows():\n",
    "    if row[\"teamRslt\"] == \"Win\":\n",
    "        final.loc[ind, \"Color Scheme\"] = 0\n",
    "    else:\n",
    "        final.loc[ind, \"Color Scheme\"] = 1"
   ]
  },
  {
   "cell_type": "markdown",
   "metadata": {},
   "source": [
    "### Models & Plots"
   ]
  },
  {
   "cell_type": "code",
   "execution_count": null,
   "metadata": {},
   "outputs": [],
   "source": []
  },
  {
   "cell_type": "markdown",
   "metadata": {},
   "source": [
    "### Conclusion"
   ]
  },
  {
   "cell_type": "code",
   "execution_count": null,
   "metadata": {},
   "outputs": [],
   "source": []
  },
  {
   "cell_type": "code",
   "execution_count": null,
   "metadata": {},
   "outputs": [],
   "source": []
  },
  {
   "cell_type": "code",
   "execution_count": null,
   "metadata": {},
   "outputs": [],
   "source": []
  },
  {
   "cell_type": "code",
   "execution_count": null,
   "metadata": {},
   "outputs": [],
   "source": []
  },
  {
   "cell_type": "code",
   "execution_count": null,
   "metadata": {},
   "outputs": [],
   "source": []
  },
  {
   "cell_type": "code",
   "execution_count": null,
   "metadata": {},
   "outputs": [],
   "source": []
  }
 ],
 "metadata": {
  "kernelspec": {
   "display_name": "Python 3",
   "language": "python",
   "name": "python3"
  },
  "language_info": {
   "codemirror_mode": {
    "name": "ipython",
    "version": 3
   },
   "file_extension": ".py",
   "mimetype": "text/x-python",
   "name": "python",
   "nbconvert_exporter": "python",
   "pygments_lexer": "ipython3",
   "version": "3.7.3"
  }
 },
 "nbformat": 4,
 "nbformat_minor": 2
}
