{
 "cells": [
  {
   "cell_type": "markdown",
   "metadata": {},
   "source": [
    "# Predicting NBA Scores using Machine Learning\n",
    "\n",
    "### George Tao,  Jeremiah Sahabu, Isaac Chau\n",
    "\n",
    "#### Introduction\n",
    "\n",
    "Sports inheritantly has large variability. Thus, we wanted to see if we can predict which team will win through supervised Machine Learning. We decided to use Logistic Regression for our models as we believe it fits the scenario best.\n",
    "\n",
    "#### Dataset:\n",
    "\n",
    "#### Features:\n",
    "\n",
    "We saw a lot of features given ranging from player stats, scores, among others. We used a combination of these features as well as features we created from the dataset above to feed into our model. See list below of features we identified significant\n",
    "\n",
    "- Consecutive Away Games\n",
    "- Wins in the last 10 Games\n",
    "- Officials \n",
    "- Players\n",
    "- Back to Back Games\n",
    "- eFG% (season average)\n",
    "- eFG% allowed (season average)\n",
    "- Team Fouls (season average)\n",
    "- Turnovers \n",
    "- Offensive Rebounds\n",
    "\n"
   ]
  },
  {
   "cell_type": "markdown",
   "metadata": {},
   "source": [
    "### Loading in the Data"
   ]
  },
  {
   "cell_type": "code",
   "execution_count": null,
   "metadata": {},
   "outputs": [],
   "source": []
  },
  {
   "cell_type": "markdown",
   "metadata": {},
   "source": [
    "### Parsing the Data"
   ]
  },
  {
   "cell_type": "code",
   "execution_count": null,
   "metadata": {},
   "outputs": [],
   "source": []
  },
  {
   "cell_type": "markdown",
   "metadata": {},
   "source": [
    "### Models & Plots"
   ]
  },
  {
   "cell_type": "code",
   "execution_count": null,
   "metadata": {},
   "outputs": [],
   "source": []
  },
  {
   "cell_type": "markdown",
   "metadata": {},
   "source": [
    "### Conclusion"
   ]
  },
  {
   "cell_type": "code",
   "execution_count": null,
   "metadata": {},
   "outputs": [],
   "source": []
  },
  {
   "cell_type": "code",
   "execution_count": null,
   "metadata": {},
   "outputs": [],
   "source": []
  },
  {
   "cell_type": "code",
   "execution_count": null,
   "metadata": {},
   "outputs": [],
   "source": []
  },
  {
   "cell_type": "code",
   "execution_count": null,
   "metadata": {},
   "outputs": [],
   "source": []
  },
  {
   "cell_type": "code",
   "execution_count": null,
   "metadata": {},
   "outputs": [],
   "source": []
  },
  {
   "cell_type": "code",
   "execution_count": null,
   "metadata": {},
   "outputs": [],
   "source": []
  }
 ],
 "metadata": {
  "kernelspec": {
   "display_name": "Python 3",
   "language": "python",
   "name": "python3"
  },
  "language_info": {
   "codemirror_mode": {
    "name": "ipython",
    "version": 3
   },
   "file_extension": ".py",
   "mimetype": "text/x-python",
   "name": "python",
   "nbconvert_exporter": "python",
   "pygments_lexer": "ipython3",
   "version": "3.7.3"
  }
 },
 "nbformat": 4,
 "nbformat_minor": 2
}
